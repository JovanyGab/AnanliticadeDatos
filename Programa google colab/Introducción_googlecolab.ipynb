{
  "nbformat": 4,
  "nbformat_minor": 0,
  "metadata": {
    "colab": {
      "provenance": []
    },
    "kernelspec": {
      "name": "python3",
      "display_name": "Python 3"
    },
    "language_info": {
      "name": "python"
    }
  },
  "cells": [
    {
      "cell_type": "code",
      "execution_count": 1,
      "metadata": {
        "colab": {
          "base_uri": "https://localhost:8080/"
        },
        "id": "dKxPXtsIydVV",
        "outputId": "781c58d9-080f-4e07-b4f8-938066836a3b"
      },
      "outputs": [
        {
          "output_type": "stream",
          "name": "stdout",
          "text": [
            "Hello world\n"
          ]
        }
      ],
      "source": [
        "print(\"Hello world\")\n"
      ]
    },
    {
      "cell_type": "markdown",
      "source": [
        "#Operaciones aritmeticas"
      ],
      "metadata": {
        "id": "hjs_Q_NdzbpW"
      }
    },
    {
      "cell_type": "code",
      "source": [
        "valor = int(input(\"introduce un valor: \"))"
      ],
      "metadata": {
        "id": "2X5rsZpw7Muq"
      },
      "execution_count": null,
      "outputs": []
    },
    {
      "cell_type": "code",
      "source": [
        "## Numero booleanos\n",
        "valor = True\n",
        "valor"
      ],
      "metadata": {
        "id": "jA-5ii7O8B9P"
      },
      "execution_count": null,
      "outputs": []
    },
    {
      "cell_type": "code",
      "source": [
        "type(valor)"
      ],
      "metadata": {
        "id": "WOMTKu_U8SV5"
      },
      "execution_count": null,
      "outputs": []
    },
    {
      "cell_type": "code",
      "source": [
        "saludo = \"Hola\""
      ],
      "metadata": {
        "id": "gVHWu49I8jSI"
      },
      "execution_count": null,
      "outputs": []
    },
    {
      "cell_type": "code",
      "source": [
        "print(saludo, \"Como estas\", sep=\"******\")"
      ],
      "metadata": {
        "id": "OjK9rck98xpI"
      },
      "execution_count": null,
      "outputs": []
    },
    {
      "cell_type": "code",
      "source": [],
      "metadata": {
        "id": "CSJYWwOj-DF5"
      },
      "execution_count": null,
      "outputs": []
    },
    {
      "cell_type": "code",
      "source": [
        "1 / 2"
      ],
      "metadata": {
        "colab": {
          "base_uri": "https://localhost:8080/"
        },
        "id": "RqHN2MrJ1wCZ",
        "outputId": "648eee66-9529-402f-a906-0227f17ce7d0"
      },
      "execution_count": 6,
      "outputs": [
        {
          "output_type": "execute_result",
          "data": {
            "text/plain": [
              "0.5"
            ]
          },
          "metadata": {},
          "execution_count": 6
        }
      ]
    },
    {
      "cell_type": "markdown",
      "source": [
        "## Prioridades de Operadores\n"
      ],
      "metadata": {
        "id": "OOxtJQhs-I4n"
      }
    },
    {
      "cell_type": "markdown",
      "source": [
        "## Operadores relacionales"
      ],
      "metadata": {
        "id": "I5I38naH_o_g"
      }
    },
    {
      "cell_type": "code",
      "source": [
        "variable = 10.2\n",
        "variables2 = variable == 10.2\n",
        "variable2\n"
      ],
      "metadata": {
        "id": "1Y4utNXu_sLn"
      },
      "execution_count": null,
      "outputs": []
    },
    {
      "cell_type": "code",
      "source": [
        "4 + 5 * 10"
      ],
      "metadata": {
        "id": "-SqVJIlL-NyJ"
      },
      "execution_count": null,
      "outputs": []
    },
    {
      "cell_type": "code",
      "source": [
        "(4 + 5) * 10"
      ],
      "metadata": {
        "id": "_pADpTvg-RAf"
      },
      "execution_count": null,
      "outputs": []
    },
    {
      "cell_type": "code",
      "source": [
        "1 / 2 * 3"
      ],
      "metadata": {
        "id": "u2yq0xgt-qvh"
      },
      "execution_count": null,
      "outputs": []
    },
    {
      "cell_type": "markdown",
      "source": [
        "## Tipos de datos y variables"
      ],
      "metadata": {
        "id": "ix87o8Rn2ThP"
      }
    },
    {
      "cell_type": "code",
      "source": [
        "# Variable entera\n",
        "numero1 = 10\n",
        "type(numero1)"
      ],
      "metadata": {
        "colab": {
          "base_uri": "https://localhost:8080/"
        },
        "id": "JWNO3YPk21cv",
        "outputId": "a54b8746-9d13-45ba-e632-683bbacde3a3"
      },
      "execution_count": 7,
      "outputs": [
        {
          "output_type": "execute_result",
          "data": {
            "text/plain": [
              "int"
            ]
          },
          "metadata": {},
          "execution_count": 7
        }
      ]
    },
    {
      "cell_type": "code",
      "source": [
        "numero2 = 20\n",
        "resultado = numero1 + numero2\n",
        "resultado"
      ],
      "metadata": {
        "colab": {
          "base_uri": "https://localhost:8080/"
        },
        "id": "ey2NCIr23OVn",
        "outputId": "4bdd3947-4e14-4f24-be18-623213badfff"
      },
      "execution_count": 8,
      "outputs": [
        {
          "output_type": "execute_result",
          "data": {
            "text/plain": [
              "30"
            ]
          },
          "metadata": {},
          "execution_count": 8
        }
      ]
    },
    {
      "cell_type": "code",
      "source": [
        "# Flotantes\n",
        "numero1 = 45.6\n",
        "type(numero1)"
      ],
      "metadata": {
        "id": "5lKPo9M33kcC"
      },
      "execution_count": null,
      "outputs": []
    },
    {
      "cell_type": "code",
      "source": [
        "print(\"Hola\", \"Como estas\", resultado)"
      ],
      "metadata": {
        "id": "lKe9i7yc4mEO"
      },
      "execution_count": null,
      "outputs": []
    },
    {
      "cell_type": "markdown",
      "source": [
        "## Potencia"
      ],
      "metadata": {
        "id": "ngcAx5gg0-ym"
      }
    },
    {
      "cell_type": "code",
      "source": [
        "2 ** 2"
      ],
      "metadata": {
        "colab": {
          "base_uri": "https://localhost:8080/"
        },
        "id": "sWj2R0rt1F5y",
        "outputId": "ef935196-aafc-4009-e585-b9609ae2bf22"
      },
      "execution_count": 5,
      "outputs": [
        {
          "output_type": "execute_result",
          "data": {
            "text/plain": [
              "4"
            ]
          },
          "metadata": {},
          "execution_count": 5
        }
      ]
    },
    {
      "cell_type": "markdown",
      "source": [
        "## Multiplicación"
      ],
      "metadata": {
        "id": "xG9zT8Ux0wJn"
      }
    },
    {
      "cell_type": "code",
      "source": [
        "4 * 5"
      ],
      "metadata": {
        "colab": {
          "base_uri": "https://localhost:8080/"
        },
        "id": "Q6z15czj01MC",
        "outputId": "6bc4f8d1-5a9a-4b34-9b51-3e9f8b2267af"
      },
      "execution_count": 4,
      "outputs": [
        {
          "output_type": "execute_result",
          "data": {
            "text/plain": [
              "20"
            ]
          },
          "metadata": {},
          "execution_count": 4
        }
      ]
    },
    {
      "cell_type": "markdown",
      "source": [
        "## Suma"
      ],
      "metadata": {
        "id": "Q3ryIk4yzxVO"
      }
    },
    {
      "cell_type": "code",
      "source": [
        "4 + 5 #Suma de literales"
      ],
      "metadata": {
        "colab": {
          "base_uri": "https://localhost:8080/"
        },
        "id": "EJJfPxpoz_b-",
        "outputId": "8503241e-ede6-4cf6-cd98-b0443242aeba"
      },
      "execution_count": 2,
      "outputs": [
        {
          "output_type": "execute_result",
          "data": {
            "text/plain": [
              "9"
            ]
          },
          "metadata": {},
          "execution_count": 2
        }
      ]
    },
    {
      "cell_type": "code",
      "source": [
        "10 - 2"
      ],
      "metadata": {
        "colab": {
          "base_uri": "https://localhost:8080/"
        },
        "id": "EaCZNS0U0lIX",
        "outputId": "4c43a9d8-828e-4a0d-85b4-edecaa4a6627"
      },
      "execution_count": 3,
      "outputs": [
        {
          "output_type": "execute_result",
          "data": {
            "text/plain": [
              "8"
            ]
          },
          "metadata": {},
          "execution_count": 3
        }
      ]
    }
  ]
}