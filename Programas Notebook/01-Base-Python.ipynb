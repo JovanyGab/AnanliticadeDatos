{
 "cells": [
  {
   "cell_type": "markdown",
   "metadata": {},
   "source": [
    "# Caracteres de escape y una nueva linea"
   ]
  },
  {
   "cell_type": "code",
   "execution_count": 7,
   "metadata": {},
   "outputs": [
    {
     "name": "stdout",
     "output_type": "stream",
     "text": [
      "La titsi witsi araña\n",
      " subioo a su telaraña\n",
      "La titsi witsi araña subioo a su telaraña\n",
      "La titsi witsi araña\\ subioo a su telaraña\n"
     ]
    }
   ],
   "source": [
    "print(\"La titsi witsi araña\\n subioo a su telaraña\")\n",
    "print(\"La titsi witsi araña subioo a su telaraña\")\n",
    "print(\"La titsi witsi araña\\\\ subioo a su telaraña\")"
   ]
  },
  {
   "cell_type": "code",
   "execution_count": 5,
   "metadata": {},
   "outputs": [
    {
     "name": "stdout",
     "output_type": "stream",
     "text": [
      "El resultado es: 10\n"
     ]
    }
   ],
   "source": [
    "x = 10\n",
    "print(\"El resultado es: \" + str(x))"
   ]
  },
  {
   "cell_type": "code",
   "execution_count": 9,
   "metadata": {},
   "outputs": [
    {
     "name": "stdout",
     "output_type": "stream",
     "text": [
      "El valor de x es: 22\n"
     ]
    }
   ],
   "source": [
    "x = 22\n",
    "print(f'El valor de x es: {x}')"
   ]
  },
  {
   "cell_type": "code",
   "execution_count": 16,
   "metadata": {},
   "outputs": [
    {
     "name": "stdout",
     "output_type": "stream",
     "text": [
      "El resultado es: 57.900000000000006\n",
      "El resultado es: 57.900000000000006\n",
      "La suma de 45.6 + 12.3 = 57.900000000000006\n",
      "57.9\n",
      "La suma de 45.6 + 12.3 es: 57.9\n"
     ]
    }
   ],
   "source": [
    "x = 45.6\n",
    "y = 12.3\n",
    "resultado = x + y\n",
    "\n",
    "print(\"El resultado es: \" + str(resultado))\n",
    "print(\"El resultado es: \" + str(x + y))\n",
    "print('La suma de ' + str(x) + ' + ' + str(y) + ' = ' + str(x+y))\n",
    "print(str(round(x+y,2)))\n",
    "\n",
    "#Utilizando el string literal\n",
    "print(f'La suma de {x} + {y} es: {round(x+y,2)}')\n"
   ]
  },
  {
   "cell_type": "markdown",
   "metadata": {},
   "source": [
    "# Usando multiples argumentos"
   ]
  },
  {
   "cell_type": "code",
   "execution_count": 18,
   "metadata": {},
   "outputs": [
    {
     "name": "stdout",
     "output_type": "stream",
     "text": [
      "La arañame mordio el dedo\n",
      "La araña me mordio mis 20 dedos\n"
     ]
    }
   ],
   "source": [
    "print('La araña' + 'me mordio el dedo')\n",
    "x = 20\n",
    "print('La araña', 'me mordio', 'mis', x, 'dedos')"
   ]
  },
  {
   "cell_type": "markdown",
   "metadata": {},
   "source": [
    "# Argumentos de palabra clave"
   ]
  },
  {
   "cell_type": "markdown",
   "metadata": {},
   "source": [
    "Python ofrece otro mecanismo para el paso de argumentos, que puede ser útil cuando deseas convencer a la función print() para que cambie un poco su comportamiento.\n",
    "\n",
    "No vamos a explicarlo en profundidad ahora. Planeamos hacerlo cuando hablemos de funciones. Por ahora, simplemente queremos mostrarte cómo funciona. Siéntete libre de usarlo en tus propios programas.\n",
    "\n",
    "El mecanismo se llama argumentos de palabras clave. El nombre proviene del hecho de que el significado de estos argumentos se toma no de su ubicación (posición) sino de la palabra especial (palabra clave) utilizada para identificarlos.\n",
    "\n",
    "La función print() tiene dos argumentos de palabra clave que puedes usar para tus propósitos. El primero se llama end."
   ]
  },
  {
   "cell_type": "code",
   "execution_count": 22,
   "metadata": {},
   "outputs": [
    {
     "name": "stdout",
     "output_type": "stream",
     "text": [
      "Hola soy tu miche"
     ]
    }
   ],
   "source": [
    "print('Hola soy tu miche', end = \"\")"
   ]
  },
  {
   "cell_type": "code",
   "execution_count": 21,
   "metadata": {},
   "outputs": [
    {
     "name": "stdout",
     "output_type": "stream",
     "text": [
      "Hola mundo*estoy aqui\n"
     ]
    }
   ],
   "source": [
    "print('Hola mundo', end ='*')\n",
    "print('estoy aqui')"
   ]
  },
  {
   "cell_type": "code",
   "execution_count": 24,
   "metadata": {},
   "outputs": [
    {
     "name": "stdout",
     "output_type": "stream",
     "text": [
      "hola-como estas-america-campion\n",
      "hola-como estas-america-campion**Soyla Vaca Del corral/Tengo mucha hambre\n"
     ]
    }
   ],
   "source": [
    "# Palabra clave sep\n",
    "print('hola', 'como estas', 'america', 'campion', sep= '-')\n",
    "print('hola', 'como estas', 'america', 'campion', sep= '-', end='**')\n",
    "print('Soyla', 'Vaca', 'Del corral', end='/')\n",
    "print('Tengo mucha hambre')"
   ]
  },
  {
   "cell_type": "markdown",
   "metadata": {},
   "source": [
    "# LAB La funcion print y sus argumentos"
   ]
  },
  {
   "cell_type": "markdown",
   "metadata": {},
   "source": [
    "## Escenario "
   ]
  },
  {
   "cell_type": "markdown",
   "metadata": {},
   "source": []
  },
  {
   "cell_type": "code",
   "execution_count": 25,
   "metadata": {},
   "outputs": [
    {
     "name": "stdout",
     "output_type": "stream",
     "text": [
      "Programming***Essential***in...Python\n"
     ]
    }
   ],
   "source": [
    "print('Programming', 'Essential', 'in', sep= '***', end= '...')\n",
    "print('Python')"
   ]
  }
 ],
 "metadata": {
  "kernelspec": {
   "display_name": "Python 3",
   "language": "python",
   "name": "python3"
  },
  "language_info": {
   "codemirror_mode": {
    "name": "ipython",
    "version": 3
   },
   "file_extension": ".py",
   "mimetype": "text/x-python",
   "name": "python",
   "nbconvert_exporter": "python",
   "pygments_lexer": "ipython3",
   "version": "3.12.1"
  }
 },
 "nbformat": 4,
 "nbformat_minor": 2
}
